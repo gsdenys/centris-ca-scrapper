{
 "cells": [
  {
   "cell_type": "markdown",
   "id": "abd3d8e8-616a-48c1-a891-962d144f2b66",
   "metadata": {},
   "source": [
    "# Data extraction\n",
    "\n",
    "This Notebook shows how to extract data from [centris.ca](https://www.centris.ca) using [Selenium](https://www.selenium.dev) and a custom library `paginate.py` that implements a iterator over the pages until the last one.\n",
    "\n",
    "> It performs over the `Summary` view that enables more detailed data extractions. \n",
    "\n",
    "As it is just a extractor, the data format is the html code without treatment or enrichment, each property are persisted in a text file and stoked inside an extructured data directory that includes year, month, and day in the formation `<data_dir>/yyyy/mm/dd` (_e.g. data/2025/01/27_)."
   ]
  },
  {
   "cell_type": "markdown",
   "id": "95b99397-a616-4055-85aa-ec0b55ab0464",
   "metadata": {},
   "source": [
    "## Import Libraries"
   ]
  },
  {
   "cell_type": "code",
   "execution_count": 1,
   "id": "0f0bd67e-0090-4c5c-8cc2-853a6f9a36a1",
   "metadata": {},
   "outputs": [],
   "source": [
    "# Library for file persistence\n",
    "import os\n",
    "import re\n",
    "\n",
    "# Selenium libraries\n",
    "from selenium import webdriver\n",
    "from selenium.webdriver.chrome.service import Service\n",
    "from selenium.webdriver.common.by import By\n",
    "\n",
    "# Use chrome driver manager\n",
    "from webdriver_manager.chrome import ChromeDriverManager as DriverManager\n",
    "\n",
    "# Custom paginate library\n",
    "from paginate import Paginate"
   ]
  },
  {
   "cell_type": "markdown",
   "id": "90cdcf48-254d-40b7-80a9-f598ba2fae82",
   "metadata": {},
   "source": [
    "## Parameter Selection\n",
    "\n",
    "Now you need to select the parameter that you want to apply to the crowler. These parameters will define where the regions that te system use to obtains the data, and the output directory used to the store the extraction result.  "
   ]
  },
  {
   "cell_type": "code",
   "execution_count": 2,
   "id": "ae60cb15-a2a3-4d02-b1a0-c4eb5faf6399",
   "metadata": {},
   "outputs": [],
   "source": [
    "# The search Region\n",
    "search_region = 'montreal-lasalle'\n",
    "\n",
    "# The output directory\n",
    "output_dir = 'data/html'"
   ]
  },
  {
   "cell_type": "markdown",
   "id": "9d19c907-3efb-4ffa-9331-bb107098391c",
   "metadata": {},
   "source": [
    "There are also the fixed parameters that'll be used to generate the url used to perform the crowler."
   ]
  },
  {
   "cell_type": "code",
   "execution_count": 3,
   "id": "cf59e6cb-9cd5-4ab6-8022-6933dd41250b",
   "metadata": {},
   "outputs": [
    {
     "data": {
      "text/plain": [
       "'https://www.centris.ca/en/properties~for-sale~montreal-lasalle?view=Summary'"
      ]
     },
     "execution_count": 3,
     "metadata": {},
     "output_type": "execute_result"
    }
   ],
   "source": [
    "base_url = 'https://www.centris.ca/en/properties'\n",
    "page_view = 'Summary'\n",
    "operation = 'for-sale'\n",
    "\n",
    "# prepare the url to request\n",
    "search_region = f\"~{search_region}\" if search_region else ''\n",
    "url = f\"https://www.centris.ca/en/properties~{operation}{search_region}?view={page_view}\"\n",
    "\n",
    "url"
   ]
  },
  {
   "cell_type": "markdown",
   "id": "d1179969-d161-43df-8b06-ac10d4224396",
   "metadata": {},
   "source": [
    "# Initialise Selenium\n",
    "\n",
    "In this section there the [selenium web driver](https://www.selenium.dev/documentation/webdriver/) must be initilized, then the [centris.ca](https://www.centris.ca) URL requested."
   ]
  },
  {
   "cell_type": "code",
   "execution_count": 4,
   "id": "466a5904-1030-4c3e-aeea-65789d2196da",
   "metadata": {},
   "outputs": [],
   "source": [
    "# initialize webdriver\n",
    "driver = webdriver.Chrome(service=Service(DriverManager().install()))\n",
    "\n",
    "# request the created URL\n",
    "driver.get(url)"
   ]
  },
  {
   "cell_type": "markdown",
   "id": "47191704-0e50-44b0-a099-9301c64b4ee7",
   "metadata": {},
   "source": [
    "Once the URL requested, there is a popup that'll apears, then it must be removed to allow the site elements be clickable. So just find by id the agree button from popup and click on it."
   ]
  },
  {
   "cell_type": "code",
   "execution_count": 5,
   "id": "5020a7e8-7fb4-42c0-8db7-55d065ac4905",
   "metadata": {},
   "outputs": [],
   "source": [
    "el = driver.find_element(By.ID, 'didomi-notice-agree-button');\n",
    "el.click()"
   ]
  },
  {
   "cell_type": "markdown",
   "id": "2e75203c-332f-4b4f-979f-bef63130ef4c",
   "metadata": {},
   "source": [
    "## Start site pagination \n",
    "\n",
    "The Paginate class enable to walk through the [centris.ca](https://www.centris.ca) pages. It implements the generator method thar allow use it as a interator"
   ]
  },
  {
   "cell_type": "code",
   "execution_count": 6,
   "id": "0a311bfb-546f-4f5f-a3dc-a3bae917b123",
   "metadata": {},
   "outputs": [],
   "source": [
    "paginator = Paginate(driver)"
   ]
  },
  {
   "cell_type": "markdown",
   "id": "bd62c370-fa45-4161-a54c-3569765caf9a",
   "metadata": {},
   "source": [
    "## Persistence definition\n",
    "\n",
    "This function provides a way to persist the data in filesystem. To change it just reimplement it and change the destination."
   ]
  },
  {
   "cell_type": "code",
   "execution_count": 7,
   "id": "b0de9c3a-1317-4a6e-883e-0528e0c09ea5",
   "metadata": {},
   "outputs": [],
   "source": [
    "def persistence(page: str, page_id: str, output_dir: str):\n",
    "    os.makedirs(output_dir, exist_ok=True)\n",
    "\n",
    "    file_name = f\"centris_{page_id}.html\"\n",
    "    file_path = os.path.join(output_dir, file_name)\n",
    "\n",
    "    # Write the HTML content to the file\n",
    "    with open(file_path, \"w\", encoding=\"utf-8\") as file:\n",
    "        file.write(page)"
   ]
  },
  {
   "cell_type": "markdown",
   "id": "c53d38cb-c5c6-4068-9cfc-4867862480b8",
   "metadata": {},
   "source": [
    "## Perform extraction"
   ]
  },
  {
   "cell_type": "code",
   "execution_count": 8,
   "id": "4536fffb-5431-4a86-95c8-31fc36914032",
   "metadata": {},
   "outputs": [],
   "source": [
    "# Iterate through the pages\n",
    "for page_number, page in enumerate(paginator, start=1):\n",
    "    # content = driver.page_source\n",
    "\n",
    "    page_id = str(page_number).zfill(7)\n",
    "    persistence(page, page_id, output_dir)\n",
    "    \n",
    "driver.close()"
   ]
  }
 ],
 "metadata": {
  "kernelspec": {
   "display_name": "Python 3 (ipykernel)",
   "language": "python",
   "name": "python3"
  },
  "language_info": {
   "codemirror_mode": {
    "name": "ipython",
    "version": 3
   },
   "file_extension": ".py",
   "mimetype": "text/x-python",
   "name": "python",
   "nbconvert_exporter": "python",
   "pygments_lexer": "ipython3",
   "version": "3.13.1"
  }
 },
 "nbformat": 4,
 "nbformat_minor": 5
}
