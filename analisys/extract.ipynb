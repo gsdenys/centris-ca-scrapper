{
 "cells": [
  {
   "cell_type": "markdown",
   "id": "95b99397-a616-4055-85aa-ec0b55ab0464",
   "metadata": {},
   "source": [
    "## Import Libraries"
   ]
  },
  {
   "cell_type": "code",
   "execution_count": 1,
   "id": "0f0bd67e-0090-4c5c-8cc2-853a6f9a36a1",
   "metadata": {},
   "outputs": [],
   "source": [
    "# Library for file persistence\n",
    "import os\n",
    "import re\n",
    "\n",
    "# Selenium libraries\n",
    "from selenium import webdriver\n",
    "from selenium.webdriver.chrome.service import Service\n",
    "from selenium.webdriver.common.by import By\n",
    "\n",
    "# Use chrome driver manager\n",
    "from webdriver_manager.chrome import ChromeDriverManager as DriverManager\n",
    "\n",
    "# Custom paginate library\n",
    "from centrisca import Paginate\n",
    "\n",
    "from operations import Operation"
   ]
  },
  {
   "cell_type": "markdown",
   "id": "90cdcf48-254d-40b7-80a9-f598ba2fae82",
   "metadata": {},
   "source": [
    "## Parameter Selection\n",
    "\n",
    "Now you need to select the parameter that you want to apply to the crowler. These parameters will define where the regions that te system use to obtains the data, and the output directory used to the store the extraction result.  "
   ]
  },
  {
   "cell_type": "code",
   "execution_count": 2,
   "id": "ae60cb15-a2a3-4d02-b1a0-c4eb5faf6399",
   "metadata": {},
   "outputs": [],
   "source": [
    "# The search Region\n",
    "search_region = 'montreal-lasalle'\n",
    "\n",
    "# The output directory\n",
    "output_dir = 'data/html'"
   ]
  },
  {
   "cell_type": "markdown",
   "id": "9d19c907-3efb-4ffa-9331-bb107098391c",
   "metadata": {},
   "source": [
    "There are also the fixed parameters that'll be used to generate the url used to perform the crowler."
   ]
  },
  {
   "cell_type": "code",
   "execution_count": 3,
   "id": "90627706-ddc8-41ae-9a8e-2dbbbb071f77",
   "metadata": {},
   "outputs": [],
   "source": [
    "paginator = Paginate(operation=Operation.FOR_SALE, search_region=search_region, handle_popup=False)"
   ]
  },
  {
   "cell_type": "markdown",
   "id": "bd62c370-fa45-4161-a54c-3569765caf9a",
   "metadata": {},
   "source": [
    "## Persistence definition\n",
    "\n",
    "This function provides a way to persist the data in filesystem. To change it just reimplement it and change the destination."
   ]
  },
  {
   "cell_type": "code",
   "execution_count": 4,
   "id": "b0de9c3a-1317-4a6e-883e-0528e0c09ea5",
   "metadata": {},
   "outputs": [],
   "source": [
    "def persistence(page: str, page_id: str, output_dir: str):\n",
    "    os.makedirs(output_dir, exist_ok=True)\n",
    "\n",
    "    file_name = f\"centris_{page_id}.html\"\n",
    "    file_path = os.path.join(output_dir, file_name)\n",
    "\n",
    "    # Write the HTML content to the file\n",
    "    with open(file_path, \"w\", encoding=\"utf-8\") as file:\n",
    "        file.write(page)"
   ]
  },
  {
   "cell_type": "markdown",
   "id": "c53d38cb-c5c6-4068-9cfc-4867862480b8",
   "metadata": {},
   "source": [
    "## Perform extraction"
   ]
  },
  {
   "cell_type": "code",
   "execution_count": 5,
   "id": "4536fffb-5431-4a86-95c8-31fc36914032",
   "metadata": {},
   "outputs": [
    {
     "ename": "NoSuchElementException",
     "evalue": "Message: no such element: Unable to locate element: {\"method\":\"css selector\",\"selector\":\".next\"}\n  (Session info: chrome=132.0.6834.112); For documentation on this error, please visit: https://www.selenium.dev/documentation/webdriver/troubleshooting/errors#no-such-element-exception\nStacktrace:\n0   chromedriver                        0x00000001013bf0d4 cxxbridge1$str$ptr + 2600792\n1   chromedriver                        0x00000001013b79f0 cxxbridge1$str$ptr + 2570356\n2   chromedriver                        0x0000000100f583d8 cxxbridge1$string$len + 89376\n3   chromedriver                        0x0000000100f9d414 cxxbridge1$string$len + 372060\n4   chromedriver                        0x0000000100fd7638 cxxbridge1$string$len + 610176\n5   chromedriver                        0x0000000100f9134c cxxbridge1$string$len + 322708\n6   chromedriver                        0x0000000100f91f94 cxxbridge1$string$len + 325852\n7   chromedriver                        0x000000010138a238 cxxbridge1$str$ptr + 2384060\n8   chromedriver                        0x000000010138d550 cxxbridge1$str$ptr + 2397140\n9   chromedriver                        0x0000000101370b9c cxxbridge1$str$ptr + 2279968\n10  chromedriver                        0x000000010138de10 cxxbridge1$str$ptr + 2399380\n11  chromedriver                        0x00000001013626a4 cxxbridge1$str$ptr + 2221352\n12  chromedriver                        0x00000001013a87d8 cxxbridge1$str$ptr + 2508380\n13  chromedriver                        0x00000001013a8954 cxxbridge1$str$ptr + 2508760\n14  chromedriver                        0x00000001013b7664 cxxbridge1$str$ptr + 2569448\n15  libsystem_pthread.dylib             0x00000001a02a72e4 _pthread_start + 136\n16  libsystem_pthread.dylib             0x00000001a02a20fc thread_start + 8\n",
     "output_type": "error",
     "traceback": [
      "\u001b[0;31m---------------------------------------------------------------------------\u001b[0m",
      "\u001b[0;31mNoSuchElementException\u001b[0m                    Traceback (most recent call last)",
      "Cell \u001b[0;32mIn[5], line 2\u001b[0m\n\u001b[1;32m      1\u001b[0m \u001b[38;5;66;03m# Iterate through the pages\u001b[39;00m\n\u001b[0;32m----> 2\u001b[0m \u001b[38;5;28;43;01mfor\u001b[39;49;00m\u001b[43m \u001b[49m\u001b[43mpage_number\u001b[49m\u001b[43m,\u001b[49m\u001b[43m \u001b[49m\u001b[43mpage\u001b[49m\u001b[43m \u001b[49m\u001b[38;5;129;43;01min\u001b[39;49;00m\u001b[43m \u001b[49m\u001b[38;5;28;43menumerate\u001b[39;49m\u001b[43m(\u001b[49m\u001b[43mpaginator\u001b[49m\u001b[43m,\u001b[49m\u001b[43m \u001b[49m\u001b[43mstart\u001b[49m\u001b[38;5;241;43m=\u001b[39;49m\u001b[38;5;241;43m1\u001b[39;49m\u001b[43m)\u001b[49m\u001b[43m:\u001b[49m\n\u001b[1;32m      3\u001b[0m \u001b[43m    \u001b[49m\u001b[38;5;66;43;03m# content = driver.page_source\u001b[39;49;00m\n\u001b[1;32m      5\u001b[0m \u001b[43m    \u001b[49m\u001b[43mpage_id\u001b[49m\u001b[43m \u001b[49m\u001b[38;5;241;43m=\u001b[39;49m\u001b[43m \u001b[49m\u001b[38;5;28;43mstr\u001b[39;49m\u001b[43m(\u001b[49m\u001b[43mpage_number\u001b[49m\u001b[43m)\u001b[49m\u001b[38;5;241;43m.\u001b[39;49m\u001b[43mzfill\u001b[49m\u001b[43m(\u001b[49m\u001b[38;5;241;43m7\u001b[39;49m\u001b[43m)\u001b[49m\n\u001b[1;32m      6\u001b[0m \u001b[43m    \u001b[49m\u001b[43mpersistence\u001b[49m\u001b[43m(\u001b[49m\u001b[43mpage\u001b[49m\u001b[43m,\u001b[49m\u001b[43m \u001b[49m\u001b[43mpage_id\u001b[49m\u001b[43m,\u001b[49m\u001b[43m \u001b[49m\u001b[43moutput_dir\u001b[49m\u001b[43m)\u001b[49m\n",
      "File \u001b[0;32m~/Documents/personal/dev/future/centris-ca-scrapper/analisys/centrisca.py:136\u001b[0m, in \u001b[0;36mPaginate.__next__\u001b[0;34m(self)\u001b[0m\n\u001b[1;32m    132\u001b[0m \u001b[38;5;28;01mdef\u001b[39;00m\u001b[38;5;250m \u001b[39m\u001b[38;5;21m__next__\u001b[39m(\u001b[38;5;28mself\u001b[39m) \u001b[38;5;241m-\u001b[39m\u001b[38;5;241m>\u001b[39m \u001b[38;5;28mstr\u001b[39m:\n\u001b[1;32m    133\u001b[0m \u001b[38;5;250m    \u001b[39m\u001b[38;5;124;03m\"\"\"\u001b[39;00m\n\u001b[1;32m    134\u001b[0m \u001b[38;5;124;03m    Navigates to the next page and returns its HTML content.\u001b[39;00m\n\u001b[1;32m    135\u001b[0m \u001b[38;5;124;03m    \"\"\"\u001b[39;00m\n\u001b[0;32m--> 136\u001b[0m     \u001b[38;5;28;01mif\u001b[39;00m \u001b[38;5;129;01mnot\u001b[39;00m \u001b[38;5;28;43mself\u001b[39;49m\u001b[38;5;241;43m.\u001b[39;49m\u001b[43m__has_next\u001b[49m\u001b[43m(\u001b[49m\u001b[43m)\u001b[49m:\n\u001b[1;32m    137\u001b[0m         \u001b[38;5;28;01mraise\u001b[39;00m \u001b[38;5;167;01mStopIteration\u001b[39;00m\n\u001b[1;32m    139\u001b[0m     \u001b[38;5;28mself\u001b[39m\u001b[38;5;241m.\u001b[39m__next_page()\n",
      "File \u001b[0;32m~/Documents/personal/dev/future/centris-ca-scrapper/analisys/centrisca.py:119\u001b[0m, in \u001b[0;36mPaginate.__has_next\u001b[0;34m(self)\u001b[0m\n\u001b[1;32m    115\u001b[0m \u001b[38;5;28;01mdef\u001b[39;00m\u001b[38;5;250m \u001b[39m\u001b[38;5;21m__has_next\u001b[39m(\u001b[38;5;28mself\u001b[39m) \u001b[38;5;241m-\u001b[39m\u001b[38;5;241m>\u001b[39m \u001b[38;5;28mbool\u001b[39m:\n\u001b[1;32m    116\u001b[0m \u001b[38;5;250m    \u001b[39m\u001b[38;5;124;03m\"\"\"\u001b[39;00m\n\u001b[1;32m    117\u001b[0m \u001b[38;5;124;03m    Checks if there is a next page available for navigation.\u001b[39;00m\n\u001b[1;32m    118\u001b[0m \u001b[38;5;124;03m    \"\"\"\u001b[39;00m\n\u001b[0;32m--> 119\u001b[0m     next_btn \u001b[38;5;241m=\u001b[39m \u001b[38;5;28;43mself\u001b[39;49m\u001b[38;5;241;43m.\u001b[39;49m\u001b[43m__driver\u001b[49m\u001b[38;5;241;43m.\u001b[39;49m\u001b[43mfind_element\u001b[49m\u001b[43m(\u001b[49m\u001b[43mBy\u001b[49m\u001b[38;5;241;43m.\u001b[39;49m\u001b[43mCLASS_NAME\u001b[49m\u001b[43m,\u001b[49m\u001b[43m \u001b[49m\u001b[43mNEXT_BTN_CLASS_NAME\u001b[49m\u001b[43m)\u001b[49m\n\u001b[1;32m    120\u001b[0m     \u001b[38;5;28;01mreturn\u001b[39;00m INACTIVE_NEXT_BTN_CLASS_NAME \u001b[38;5;129;01mnot\u001b[39;00m \u001b[38;5;129;01min\u001b[39;00m next_btn\u001b[38;5;241m.\u001b[39mget_attribute(\u001b[38;5;124m\"\u001b[39m\u001b[38;5;124mclass\u001b[39m\u001b[38;5;124m\"\u001b[39m)\u001b[38;5;241m.\u001b[39msplit()\n",
      "File \u001b[0;32m~/Documents/personal/dev/future/centris-ca-scrapper/analisys/.env/lib/python3.13/site-packages/selenium/webdriver/remote/webdriver.py:888\u001b[0m, in \u001b[0;36mWebDriver.find_element\u001b[0;34m(self, by, value)\u001b[0m\n\u001b[1;32m    885\u001b[0m         \u001b[38;5;28;01mraise\u001b[39;00m NoSuchElementException(\u001b[38;5;124mf\u001b[39m\u001b[38;5;124m\"\u001b[39m\u001b[38;5;124mCannot locate relative element with: \u001b[39m\u001b[38;5;132;01m{\u001b[39;00mby\u001b[38;5;241m.\u001b[39mroot\u001b[38;5;132;01m}\u001b[39;00m\u001b[38;5;124m\"\u001b[39m)\n\u001b[1;32m    886\u001b[0m     \u001b[38;5;28;01mreturn\u001b[39;00m elements[\u001b[38;5;241m0\u001b[39m]\n\u001b[0;32m--> 888\u001b[0m \u001b[38;5;28;01mreturn\u001b[39;00m \u001b[38;5;28;43mself\u001b[39;49m\u001b[38;5;241;43m.\u001b[39;49m\u001b[43mexecute\u001b[49m\u001b[43m(\u001b[49m\u001b[43mCommand\u001b[49m\u001b[38;5;241;43m.\u001b[39;49m\u001b[43mFIND_ELEMENT\u001b[49m\u001b[43m,\u001b[49m\u001b[43m \u001b[49m\u001b[43m{\u001b[49m\u001b[38;5;124;43m\"\u001b[39;49m\u001b[38;5;124;43musing\u001b[39;49m\u001b[38;5;124;43m\"\u001b[39;49m\u001b[43m:\u001b[49m\u001b[43m \u001b[49m\u001b[43mby\u001b[49m\u001b[43m,\u001b[49m\u001b[43m \u001b[49m\u001b[38;5;124;43m\"\u001b[39;49m\u001b[38;5;124;43mvalue\u001b[39;49m\u001b[38;5;124;43m\"\u001b[39;49m\u001b[43m:\u001b[49m\u001b[43m \u001b[49m\u001b[43mvalue\u001b[49m\u001b[43m}\u001b[49m\u001b[43m)\u001b[49m[\u001b[38;5;124m\"\u001b[39m\u001b[38;5;124mvalue\u001b[39m\u001b[38;5;124m\"\u001b[39m]\n",
      "File \u001b[0;32m~/Documents/personal/dev/future/centris-ca-scrapper/analisys/.env/lib/python3.13/site-packages/selenium/webdriver/remote/webdriver.py:429\u001b[0m, in \u001b[0;36mWebDriver.execute\u001b[0;34m(self, driver_command, params)\u001b[0m\n\u001b[1;32m    427\u001b[0m response \u001b[38;5;241m=\u001b[39m \u001b[38;5;28mself\u001b[39m\u001b[38;5;241m.\u001b[39mcommand_executor\u001b[38;5;241m.\u001b[39mexecute(driver_command, params)\n\u001b[1;32m    428\u001b[0m \u001b[38;5;28;01mif\u001b[39;00m response:\n\u001b[0;32m--> 429\u001b[0m     \u001b[38;5;28;43mself\u001b[39;49m\u001b[38;5;241;43m.\u001b[39;49m\u001b[43merror_handler\u001b[49m\u001b[38;5;241;43m.\u001b[39;49m\u001b[43mcheck_response\u001b[49m\u001b[43m(\u001b[49m\u001b[43mresponse\u001b[49m\u001b[43m)\u001b[49m\n\u001b[1;32m    430\u001b[0m     response[\u001b[38;5;124m\"\u001b[39m\u001b[38;5;124mvalue\u001b[39m\u001b[38;5;124m\"\u001b[39m] \u001b[38;5;241m=\u001b[39m \u001b[38;5;28mself\u001b[39m\u001b[38;5;241m.\u001b[39m_unwrap_value(response\u001b[38;5;241m.\u001b[39mget(\u001b[38;5;124m\"\u001b[39m\u001b[38;5;124mvalue\u001b[39m\u001b[38;5;124m\"\u001b[39m, \u001b[38;5;28;01mNone\u001b[39;00m))\n\u001b[1;32m    431\u001b[0m     \u001b[38;5;28;01mreturn\u001b[39;00m response\n",
      "File \u001b[0;32m~/Documents/personal/dev/future/centris-ca-scrapper/analisys/.env/lib/python3.13/site-packages/selenium/webdriver/remote/errorhandler.py:232\u001b[0m, in \u001b[0;36mErrorHandler.check_response\u001b[0;34m(self, response)\u001b[0m\n\u001b[1;32m    230\u001b[0m         alert_text \u001b[38;5;241m=\u001b[39m value[\u001b[38;5;124m\"\u001b[39m\u001b[38;5;124malert\u001b[39m\u001b[38;5;124m\"\u001b[39m]\u001b[38;5;241m.\u001b[39mget(\u001b[38;5;124m\"\u001b[39m\u001b[38;5;124mtext\u001b[39m\u001b[38;5;124m\"\u001b[39m)\n\u001b[1;32m    231\u001b[0m     \u001b[38;5;28;01mraise\u001b[39;00m exception_class(message, screen, stacktrace, alert_text)  \u001b[38;5;66;03m# type: ignore[call-arg]  # mypy is not smart enough here\u001b[39;00m\n\u001b[0;32m--> 232\u001b[0m \u001b[38;5;28;01mraise\u001b[39;00m exception_class(message, screen, stacktrace)\n",
      "\u001b[0;31mNoSuchElementException\u001b[0m: Message: no such element: Unable to locate element: {\"method\":\"css selector\",\"selector\":\".next\"}\n  (Session info: chrome=132.0.6834.112); For documentation on this error, please visit: https://www.selenium.dev/documentation/webdriver/troubleshooting/errors#no-such-element-exception\nStacktrace:\n0   chromedriver                        0x00000001013bf0d4 cxxbridge1$str$ptr + 2600792\n1   chromedriver                        0x00000001013b79f0 cxxbridge1$str$ptr + 2570356\n2   chromedriver                        0x0000000100f583d8 cxxbridge1$string$len + 89376\n3   chromedriver                        0x0000000100f9d414 cxxbridge1$string$len + 372060\n4   chromedriver                        0x0000000100fd7638 cxxbridge1$string$len + 610176\n5   chromedriver                        0x0000000100f9134c cxxbridge1$string$len + 322708\n6   chromedriver                        0x0000000100f91f94 cxxbridge1$string$len + 325852\n7   chromedriver                        0x000000010138a238 cxxbridge1$str$ptr + 2384060\n8   chromedriver                        0x000000010138d550 cxxbridge1$str$ptr + 2397140\n9   chromedriver                        0x0000000101370b9c cxxbridge1$str$ptr + 2279968\n10  chromedriver                        0x000000010138de10 cxxbridge1$str$ptr + 2399380\n11  chromedriver                        0x00000001013626a4 cxxbridge1$str$ptr + 2221352\n12  chromedriver                        0x00000001013a87d8 cxxbridge1$str$ptr + 2508380\n13  chromedriver                        0x00000001013a8954 cxxbridge1$str$ptr + 2508760\n14  chromedriver                        0x00000001013b7664 cxxbridge1$str$ptr + 2569448\n15  libsystem_pthread.dylib             0x00000001a02a72e4 _pthread_start + 136\n16  libsystem_pthread.dylib             0x00000001a02a20fc thread_start + 8\n"
     ]
    }
   ],
   "source": [
    "# Iterate through the pages\n",
    "for page_number, page in enumerate(paginator, start=1):\n",
    "    # content = driver.page_source\n",
    "\n",
    "    page_id = str(page_number).zfill(7)\n",
    "    persistence(page, page_id, output_dir)\n",
    "    \n",
    "paginator.close()"
   ]
  },
  {
   "cell_type": "code",
   "execution_count": null,
   "id": "c8694a05-c574-41f3-b119-034106f8189e",
   "metadata": {},
   "outputs": [],
   "source": []
  }
 ],
 "metadata": {
  "kernelspec": {
   "display_name": "Python 3 (ipykernel)",
   "language": "python",
   "name": "python3"
  },
  "language_info": {
   "codemirror_mode": {
    "name": "ipython",
    "version": 3
   },
   "file_extension": ".py",
   "mimetype": "text/x-python",
   "name": "python",
   "nbconvert_exporter": "python",
   "pygments_lexer": "ipython3",
   "version": "3.13.1"
  }
 },
 "nbformat": 4,
 "nbformat_minor": 5
}
