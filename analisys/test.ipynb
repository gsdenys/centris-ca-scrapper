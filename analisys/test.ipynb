{
 "cells": [
  {
   "cell_type": "code",
   "execution_count": 1,
   "id": "745acb6e-4d3f-42af-8477-c1818631ca78",
   "metadata": {},
   "outputs": [],
   "source": [
    "from selenium import webdriver\n",
    "from webdriver_manager.chrome import ChromeDriverManager\n",
    "from selenium.webdriver.chrome.service import Service\n",
    "from selenium.webdriver.common.by import By"
   ]
  },
  {
   "cell_type": "code",
   "execution_count": 2,
   "id": "9b2c1737-a7ae-4913-9d4a-ae3582a7e883",
   "metadata": {},
   "outputs": [],
   "source": [
    "driver = webdriver.Chrome(service=Service(ChromeDriverManager().install()))"
   ]
  },
  {
   "cell_type": "code",
   "execution_count": 3,
   "id": "7f35c9f2-12c1-4aef-985d-cb49512f8b64",
   "metadata": {},
   "outputs": [],
   "source": [
    "driver.get('https://www.centris.ca/en/properties~for-sale~montreal-lasalle?view=Summary')"
   ]
  },
  {
   "cell_type": "code",
   "execution_count": 4,
   "id": "257f3d6d-4cee-427c-a47a-d3e5c7310c98",
   "metadata": {},
   "outputs": [],
   "source": [
    "from paginate import Paginate"
   ]
  },
  {
   "cell_type": "code",
   "execution_count": 5,
   "id": "fe1bbd1a-580d-4933-a623-9003bf269711",
   "metadata": {},
   "outputs": [],
   "source": [
    "page = Paginate(driver)"
   ]
  },
  {
   "cell_type": "code",
   "execution_count": 6,
   "id": "54a61c37-86af-4c63-bf35-35c1781aa736",
   "metadata": {},
   "outputs": [
    {
     "data": {
      "text/plain": [
       "'656, Avenue Vachon, Montréal (LaSalle)'"
      ]
     },
     "execution_count": 6,
     "metadata": {},
     "output_type": "execute_result"
    }
   ],
   "source": [
    "# Address\n",
    "driver.find_element(By.XPATH, '//h2[@itemprop=\"address\"]').text"
   ]
  },
  {
   "cell_type": "code",
   "execution_count": 7,
   "id": "08a31414-66a8-4c30-9fa4-6303dd2a4315",
   "metadata": {},
   "outputs": [
    {
     "data": {
      "text/plain": [
       "'$650,000'"
      ]
     },
     "execution_count": 7,
     "metadata": {},
     "output_type": "execute_result"
    }
   ],
   "source": [
    "driver.find_element(By.ID, 'BuyPrice').text"
   ]
  },
  {
   "cell_type": "code",
   "execution_count": 8,
   "id": "8b37ff0d-82e6-480c-a61e-c9a20ab1cdb6",
   "metadata": {},
   "outputs": [],
   "source": [
    "content = driver.find_element(By.ID, 'overview')"
   ]
  },
  {
   "cell_type": "code",
   "execution_count": 9,
   "id": "0f95b001-d98a-4903-ae49-314c58e6302c",
   "metadata": {},
   "outputs": [],
   "source": [
    "html_content = content.get_attribute('outerHTML')"
   ]
  },
  {
   "cell_type": "code",
   "execution_count": 10,
   "id": "29b92967-d8f6-479b-b7a5-f54277890f18",
   "metadata": {},
   "outputs": [],
   "source": [
    "from bs4 import BeautifulSoup\n",
    "soup = BeautifulSoup(html_content, 'html.parser')"
   ]
  },
  {
   "cell_type": "code",
   "execution_count": 11,
   "id": "0ac68e4b-4266-4447-a847-43015aefa090",
   "metadata": {},
   "outputs": [],
   "source": [
    "property_name = soup.find('meta', {'itemprop': 'name'})['content']\n",
    "category = soup.find('h1', {'itemprop': 'category'}).text.strip()\n",
    "address = soup.find('h2', {'itemprop': 'address'}).text.strip()\n",
    "latitude = soup.find('meta', {'itemprop': 'latitude'})['content']\n",
    "longitude = soup.find('meta', {'itemprop': 'longitude'})['content']\n",
    "price = soup.find('span', {'id': 'BuyPrice'}).text.strip()"
   ]
  },
  {
   "cell_type": "code",
   "execution_count": 12,
   "id": "afc126f5-a160-41ad-82b9-30edba857715",
   "metadata": {},
   "outputs": [
    {
     "name": "stdout",
     "output_type": "stream",
     "text": [
      "Property Name: House for sale in Montréal (LaSalle), Montréal (Island), 656, Avenue Vachon, 20575316 - Centris.ca\n",
      "Category: House for sale\n",
      "Address: 656, Avenue Vachon, Montréal (LaSalle)\n",
      "Latitude: 45.4198090000\n",
      "Longitude: -73.6158170000\n",
      "Price: $650,000\n"
     ]
    }
   ],
   "source": [
    "# Print extracted data\n",
    "print(\"Property Name:\", property_name)\n",
    "print(\"Category:\", category)\n",
    "print(\"Address:\", address)\n",
    "print(\"Latitude:\", latitude)\n",
    "print(\"Longitude:\", longitude)\n",
    "print(\"Price:\", price)"
   ]
  },
  {
   "cell_type": "code",
   "execution_count": 13,
   "id": "4d53c1de-a9ca-4fe7-9261-2d326dadf3be",
   "metadata": {},
   "outputs": [],
   "source": [
    "# Safely extract data\n",
    "def get_text_or_none(tag, attribute=None):\n",
    "    \"\"\"Helper function to extract text safely.\"\"\"\n",
    "    element = soup.find(tag, attribute) if attribute else soup.find(tag)\n",
    "    return element.text.strip() if element else None\n",
    "\n",
    "def get_attr_or_none(tag, attribute, attr_name):\n",
    "    \"\"\"Helper function to extract attribute value safely.\"\"\"\n",
    "    element = soup.find(tag, attribute)\n",
    "    return element[attr_name] if element and attr_name in element.attrs else None"
   ]
  },
  {
   "cell_type": "code",
   "execution_count": 14,
   "id": "9aabdace-4700-48b2-b231-b230bde064d6",
   "metadata": {},
   "outputs": [],
   "source": [
    "# Extract data\n",
    "property_name = get_attr_or_none('meta', {'itemprop': 'name'}, 'content')\n",
    "category = get_text_or_none('h1', {'itemprop': 'category'})\n",
    "address = get_text_or_none('h2', {'itemprop': 'address'})\n",
    "latitude = get_attr_or_none('meta', {'itemprop': 'latitude'}, 'content')\n",
    "longitude = get_attr_or_none('meta', {'itemprop': 'longitude'}, 'content')\n",
    "price = get_text_or_none('span', {'id': 'BuyPrice'})"
   ]
  },
  {
   "cell_type": "code",
   "execution_count": 15,
   "id": "ba956fc5-fdc5-4579-9ef4-023e705ce906",
   "metadata": {},
   "outputs": [],
   "source": [
    "# Extract additional details (Lifestyle, Rooms, Bedrooms, etc.)\n",
    "details = {}\n",
    "carac_containers = soup.find_all('div', class_='carac-container')\n",
    "for container in carac_containers:\n",
    "    title = container.find('div', class_='carac-title')\n",
    "    value = container.find('div', class_='carac-value')\n",
    "    if title and value:  # Ensure both title and value exist\n",
    "        details[title.text.strip()] = value.text.strip()"
   ]
  },
  {
   "cell_type": "code",
   "execution_count": 16,
   "id": "9ead38e5-a685-4b55-a0ab-81fab2f30d31",
   "metadata": {},
   "outputs": [
    {
     "name": "stdout",
     "output_type": "stream",
     "text": [
      "Property Name: House for sale in Montréal (LaSalle), Montréal (Island), 656, Avenue Vachon, 20575316 - Centris.ca\n",
      "Category: House for sale\n",
      "Address: 656, Avenue Vachon, Montréal (LaSalle)\n",
      "Latitude: 45.4198090000\n",
      "Longitude: -73.6158170000\n",
      "Price: $650,000\n"
     ]
    }
   ],
   "source": [
    "# Print extracted data\n",
    "print(\"Property Name:\", property_name)\n",
    "print(\"Category:\", category)\n",
    "print(\"Address:\", address)\n",
    "print(\"Latitude:\", latitude)\n",
    "print(\"Longitude:\", longitude)\n",
    "print(\"Price:\", price)"
   ]
  },
  {
   "cell_type": "code",
   "execution_count": 17,
   "id": "4812d7fa-3f8f-4795-9bd1-32bddd7debf7",
   "metadata": {},
   "outputs": [
    {
     "name": "stdout",
     "output_type": "stream",
     "text": [
      "Additional Details:\n",
      "Building style: Split-level, Detached\n",
      "Year built: 1957\n",
      "Living area: 1,136 sqft\n",
      "Parking (total): Carport (2), Driveway (1)\n",
      "Additional features: Basement 6 feet or +\n",
      "Move-in date: 2025-07-01\n"
     ]
    }
   ],
   "source": [
    "print(\"Additional Details:\")\n",
    "for title, value in details.items():\n",
    "    print(f\"{title}: {value}\")"
   ]
  },
  {
   "cell_type": "code",
   "execution_count": null,
   "id": "1062b93d-16ac-494a-976e-b7a866504fbc",
   "metadata": {},
   "outputs": [],
   "source": []
  }
 ],
 "metadata": {
  "kernelspec": {
   "display_name": "Python 3 (ipykernel)",
   "language": "python",
   "name": "python3"
  },
  "language_info": {
   "codemirror_mode": {
    "name": "ipython",
    "version": 3
   },
   "file_extension": ".py",
   "mimetype": "text/x-python",
   "name": "python",
   "nbconvert_exporter": "python",
   "pygments_lexer": "ipython3",
   "version": "3.13.1"
  }
 },
 "nbformat": 4,
 "nbformat_minor": 5
}
